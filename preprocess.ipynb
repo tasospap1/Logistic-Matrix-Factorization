{
 "cells": [
  {
   "cell_type": "markdown",
   "metadata": {},
   "source": [
    "### Code to create desired matrices for the matrix factorisation\n",
    "\n",
    "- Matrices' dimension CxF (C : number of ccs codes, F : number of features)\n",
    "- Matrix one contains {+1, 0, -1} at each entry. These are positive, unknown, neutral correlation of ccs code with feature\n",
    "- Matrix two contains the number of occurences of ccs code with this feature\n",
    "\n",
    "Still remain TO DO: find a way to map the df_val -> {-1,0,1}\n"
   ]
  },
  {
   "cell_type": "code",
   "execution_count": 1,
   "metadata": {},
   "outputs": [],
   "source": [
    "import os\n",
    "import pandas as pd\n",
    "import numpy as np"
   ]
  },
  {
   "cell_type": "code",
   "execution_count": 2,
   "metadata": {},
   "outputs": [],
   "source": [
    "###path where the data is and where the results will be stored\n",
    "data_path = r'/local/home/papageoa/data/mimic/mimic_iii_data/compressed/'\n",
    "output_path = r'/local/home/papageoa/data/mimic/test/'\n",
    "mapping_path = r'/local/home/papageoa/data'"
   ]
  },
  {
   "cell_type": "code",
   "execution_count": 3,
   "metadata": {},
   "outputs": [],
   "source": [
    "# Load chartevents\n",
    "dict_types = {\"ROW_ID\" : int,\n",
    "              \"SUBJECT_ID\" : int,\n",
    "              \"HADM_ID\" : int,\n",
    "              \"ICUSTAY_ID\" : float,\n",
    "              \"ITEM_ID\" : int,\n",
    "              \"CHARTTIME\" : str,\n",
    "              \"STORETIME\" : str,\n",
    "              \"CGID\" : float,\n",
    "              \"VALUE\" : str,\n",
    "              \"VALUENUM\" : float,\n",
    "              \"VALUEUOM\" : str,\n",
    "              \"WARNING\" : float,\n",
    "              \"ERROR\" : float,\n",
    "              \"RESULTSTATUS\" :str,\n",
    "              \"STOPPED\" : str\n",
    "              }\n",
    "chartevents = pd.read_csv(data_path+\"CHARTEVENTS.csv.gz\", dtype = dict_types, compression='gzip')\n",
    "chartevents.CHARTTIME = pd.to_datetime(chartevents.CHARTTIME, format = '%Y-%m-%d %H:%M:%S', errors = 'coerce')\n",
    "\n",
    "# Load d_items\n",
    "d_items = pd.read_csv(data_path+'D_ITEMS.csv.gz', compression='gzip', index_col=0, usecols=['ITEMID','PARAM_TYPE','LINKSTO'])"
   ]
  },
  {
   "cell_type": "code",
   "execution_count": 4,
   "metadata": {},
   "outputs": [
    {
     "name": "stdout",
     "output_type": "stream",
     "text": [
      "Number of unique ITEMID in chartevents: 450\n"
     ]
    }
   ],
   "source": [
    "# Filter: Exclude Errors and Stopped entries from CHARTEVENTS\n",
    "chartevents=chartevents[chartevents.ERROR!=1] # Filter errors\n",
    "chartevents=chartevents[chartevents.STOPPED!=\"D/C'd\"] # Filter stopped observations because of discharge\n",
    "# Filter: Include numeric and checklist type of observations\n",
    "d_items_numCheck = d_items[(d_items.LINKSTO == 'chartevents') & ((d_items.PARAM_TYPE == 'Numeric') | (d_items.PARAM_TYPE == 'Checklist'))]\n",
    "chartevents = chartevents.merge(d_items_numCheck, left_on='ITEMID', how='inner', right_index=True)\n",
    "print('Number of unique ITEMID in chartevents:', chartevents.ITEMID.nunique())"
   ]
  },
  {
   "cell_type": "code",
   "execution_count": 5,
   "metadata": {},
   "outputs": [],
   "source": [
    "###read the ccs codes and merge the dataframes\n",
    "\n",
    "###read the diagnoses icd codes\n",
    "df_ccs = pd.read_csv(os.path.join(data_path,'DIAGNOSES_ICD.csv.gz'), compression = 'gzip')\n",
    "df_ccs = df_ccs[df_ccs['ICD9_CODE'].notna()]\n",
    "def format_icd9code_string(code):\n",
    "\n",
    "    while len(code)<5:\n",
    "        code = code+' '\n",
    "    return code\n",
    "df_ccs['ICD9_CODE_CAST'] = df_ccs['ICD9_CODE'].apply(format_icd9code_string) \n",
    "###read the mapping from icd9 to ccs\n",
    "ccs_map = pd.read_csv(os.path.join(mapping_path,'ICD9_CCS_MAPPING.csv'), quotechar=\"'\", skiprows=[0], \n",
    "                          usecols=['ICD-9-CM CODE', 'CCS CATEGORY','CCS CATEGORY DESCRIPTION','ICD-9-CM CODE DESCRIPTION'])\n",
    "ccs_map.set_index('ICD-9-CM CODE', inplace=True)\n",
    "\n",
    "###do the merging\n",
    "df_ccs = pd.merge(df_ccs, ccs_map, left_on='ICD9_CODE_CAST', right_index=True, how='inner')\n",
    "df_ccs.sort_values(by = ['HADM_ID', 'SEQ_NUM'], inplace=True)\n",
    "df_ccs = df_ccs.drop_duplicates(subset = ['HADM_ID', 'CCS CATEGORY'], keep = 'first')"
   ]
  },
  {
   "cell_type": "code",
   "execution_count": 6,
   "metadata": {},
   "outputs": [],
   "source": [
    "#df_ccs[['HADM_ID', 'CCS CATEGORY']]\n",
    "df_merged = pd.merge(chartevents[['HADM_ID', 'ITEMID', 'VALUENUM']], df_ccs[['HADM_ID', 'CCS CATEGORY']], on = 'HADM_ID')\n",
    "df_merged.sort_values(by = ['ITEMID', 'HADM_ID'], inplace = True)"
   ]
  },
  {
   "cell_type": "code",
   "execution_count": 7,
   "metadata": {},
   "outputs": [],
   "source": [
    "df_mean = df_merged.groupby(['ITEMID', 'CCS CATEGORY']).mean()\n",
    "df_count = df_merged.groupby(['ITEMID', 'CCS CATEGORY']).count()\n",
    "df_mean.reset_index(inplace = True)\n",
    "df_count.reset_index(inplace = True)\n",
    "items = df_mean.ITEMID.unique()\n",
    "###we have data for 272 codes but clinical bert predicts 281\n",
    "#ccs_codes = df_mean['CCS CATEGORY'].unique()\n",
    "ccs_codes = df_ccs['CCS CATEGORY'].unique()\n",
    "ccs_codes.sort()"
   ]
  },
  {
   "cell_type": "code",
   "execution_count": 8,
   "metadata": {},
   "outputs": [],
   "source": [
    "n_rows = ccs_codes.shape[0]\n",
    "n_cols = items.shape[0]\n",
    "array_val = np.zeros([n_rows, n_cols])\n",
    "array_counts = np.zeros([n_rows, n_cols])\n",
    "for i in range(n_rows):\n",
    "    for j in range(n_cols):\n",
    "        temp_ccs = ccs_codes[i]\n",
    "        temp_item = items[j]\n",
    "        temp = df_mean.loc[(df_mean.ITEMID == temp_item) & (df_mean['CCS CATEGORY'] == temp_ccs)].VALUENUM\n",
    "        if temp.shape[0] != 0:\n",
    "            array_val[i,j] = temp.item()\n",
    "            array_counts[i,j] = df_count.loc[(df_mean.ITEMID == temp_item) & (df_mean['CCS CATEGORY'] == temp_ccs)].VALUENUM.item()\n",
    "        else:\n",
    "            array_val[i,j] = np.nan"
   ]
  },
  {
   "cell_type": "code",
   "execution_count": 12,
   "metadata": {},
   "outputs": [],
   "source": [
    "###normalise the first array using the mean of each item_id\n",
    "#df_item_mean = df_merged.groupby('ITEMID').mean()\n",
    "#df_item_std = df_merged.groupby('ITEMID').std()\n",
    "chartevents.sort_values(by = 'ITEMID', inplace = True)\n",
    "df_item_mean = chartevents.groupby('ITEMID').mean()\n",
    "df_item_std = chartevents.groupby('ITEMID').std()\n",
    "\n",
    "item_mean = df_item_mean.VALUENUM.to_numpy()\n",
    "item_std = df_item_std.VALUENUM.to_numpy()\n",
    "### replace nans with 0 (itemsids where we have only one measurements and the denom of std n-1 = 0)\n",
    "item_std = np.nan_to_num(item_std, nan = 0)"
   ]
  },
  {
   "cell_type": "code",
   "execution_count": 13,
   "metadata": {},
   "outputs": [
    {
     "name": "stderr",
     "output_type": "stream",
     "text": [
      "/usr/local/lib/python3.6/dist-packages/ipykernel_launcher.py:4: RuntimeWarning: invalid value encountered in true_divide\n",
      "  after removing the cwd from sys.path.\n"
     ]
    }
   ],
   "source": [
    "### this will give a warning since it will try to divide by 0 for some features! This is because we do not have many \n",
    "###observations for some ccs codes, and the standard deviation is 0 \n",
    "### Then we replace nan and inf with 0.\n",
    "z_scores = (array_val - item_mean)/ item_std\n",
    "z_scores = np.nan_to_num(z_scores, nan = 0.0, posinf = 0.0, neginf = 0.0)"
   ]
  },
  {
   "cell_type": "code",
   "execution_count": 14,
   "metadata": {},
   "outputs": [
    {
     "name": "stdout",
     "output_type": "stream",
     "text": [
      "(2265,)\n",
      "(122771,)\n",
      "(1414,)\n"
     ]
    }
   ],
   "source": [
    "z_scores[(z_scores < 1) & (z_scores > -1)] = 0 \n",
    "z_scores[z_scores >= 1] = 1\n",
    "z_scores[z_scores <= -1] = -1\n",
    "z_scores\n",
    "print(z_scores[z_scores == 1].shape)\n",
    "print(z_scores[z_scores == 0].shape)\n",
    "print(z_scores[z_scores == -1].shape)"
   ]
  },
  {
   "cell_type": "code",
   "execution_count": 15,
   "metadata": {},
   "outputs": [],
   "source": [
    "output_path = r'/local/home/papageoa/data/mimic/matrix_factorization'\n",
    "\n",
    "df_val = pd.DataFrame(z_scores, columns = items)\n",
    "df_val.set_index(ccs_codes, inplace = True)\n",
    "\n",
    "df_counts = pd.DataFrame(array_counts, columns = items)\n",
    "df_counts.set_index(ccs_codes, inplace = True)\n",
    "\n",
    "df_val.to_csv(os.path.join(output_path, 'mf_val.csv.gz'), compression = 'gzip')\n",
    "df_counts.to_csv(os.path.join(output_path, 'mf_count.csv.gz'), compression = 'gzip')"
   ]
  }
 ],
 "metadata": {
  "kernelspec": {
   "display_name": "Python 3",
   "language": "python",
   "name": "python3"
  },
  "language_info": {
   "codemirror_mode": {
    "name": "ipython",
    "version": 3
   },
   "file_extension": ".py",
   "mimetype": "text/x-python",
   "name": "python",
   "nbconvert_exporter": "python",
   "pygments_lexer": "ipython3",
   "version": "3.6.9"
  }
 },
 "nbformat": 4,
 "nbformat_minor": 4
}
